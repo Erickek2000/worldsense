{
 "cells": [
  {
   "cell_type": "code",
   "execution_count": 11,
   "metadata": {},
   "outputs": [],
   "source": [
    "import os.path\n",
    "import pandas as pd\n",
    "# from typing import Any, Dict, Tuple\n",
    "\n",
    "from dataloading import (\n",
    "    load_trials_as_dataframe,\n",
    "    find_files_ending_in,\n",
    "    load_and_assemble_trials_and_results)\n",
    "from analysis import (\n",
    "    add_fields_for_finegrained_analysis,\n",
    "    compute_acc_table,\n",
    "    accuracy_by_group,\n",
    "    bias_by_group,\n",
    "    pivot_pretty)\n",
    "def load_trainset(trainset_file = \"../data/training_set/trials_100k.jsonl.bz2\")  -> pd.DataFrame:\n",
    "    \"\"\"Loads a training set provied in .jsonl.bz2 format into memory as a pandas dataframe.\n",
    "    Beware that the format of the returned dataframe is markedly different from that of testsets returned by load_testset. See README.md for explanation.\n",
    "    \"\"\" \n",
    "    if not os.path.isfile(trainset_file):\n",
    "        raise FileNotFoundError(\"No such training set file: \" + trainset_file)        \n",
    "    df = pd.read_json(trainset_file, orient='records', lines=True)\n",
    "    return df"
   ]
  },
  {
   "cell_type": "code",
   "execution_count": 12,
   "metadata": {},
   "outputs": [
    {
     "data": {
      "text/html": [
       "<div>\n",
       "<style scoped>\n",
       "    .dataframe tbody tr th:only-of-type {\n",
       "        vertical-align: middle;\n",
       "    }\n",
       "\n",
       "    .dataframe tbody tr th {\n",
       "        vertical-align: top;\n",
       "    }\n",
       "\n",
       "    .dataframe thead th {\n",
       "        text-align: right;\n",
       "    }\n",
       "</style>\n",
       "<table border=\"1\" class=\"dataframe\">\n",
       "  <thead>\n",
       "    <tr style=\"text-align: right;\">\n",
       "      <th></th>\n",
       "      <th>dialog_history</th>\n",
       "      <th>target_message</th>\n",
       "    </tr>\n",
       "  </thead>\n",
       "  <tbody>\n",
       "    <tr>\n",
       "      <th>0</th>\n",
       "      <td>{'messages': [{'role': 'user', 'content': 'Ove...</td>\n",
       "      <td>POSSIBLE</td>\n",
       "    </tr>\n",
       "    <tr>\n",
       "      <th>1</th>\n",
       "      <td>{'messages': [{'role': 'user', 'content': 'The...</td>\n",
       "      <td>IMPOSSIBLE</td>\n",
       "    </tr>\n",
       "    <tr>\n",
       "      <th>2</th>\n",
       "      <td>{'messages': [{'role': 'user', 'content': 'Dur...</td>\n",
       "      <td>TRUE</td>\n",
       "    </tr>\n",
       "    <tr>\n",
       "      <th>3</th>\n",
       "      <td>{'messages': [{'role': 'user', 'content': 'Mar...</td>\n",
       "      <td>TRUE</td>\n",
       "    </tr>\n",
       "    <tr>\n",
       "      <th>4</th>\n",
       "      <td>{'messages': [{'role': 'user', 'content': 'The...</td>\n",
       "      <td>TRUE</td>\n",
       "    </tr>\n",
       "    <tr>\n",
       "      <th>...</th>\n",
       "      <td>...</td>\n",
       "      <td>...</td>\n",
       "    </tr>\n",
       "    <tr>\n",
       "      <th>108859</th>\n",
       "      <td>{'messages': [{'role': 'user', 'content': 'Sin...</td>\n",
       "      <td>IMPOSSIBLE</td>\n",
       "    </tr>\n",
       "    <tr>\n",
       "      <th>108860</th>\n",
       "      <td>{'messages': [{'role': 'user', 'content': 'In ...</td>\n",
       "      <td>POSSIBLE</td>\n",
       "    </tr>\n",
       "    <tr>\n",
       "      <th>108861</th>\n",
       "      <td>{'messages': [{'role': 'user', 'content': 'Dur...</td>\n",
       "      <td>IMPOSSIBLE</td>\n",
       "    </tr>\n",
       "    <tr>\n",
       "      <th>108862</th>\n",
       "      <td>{'messages': [{'role': 'user', 'content': 'The...</td>\n",
       "      <td>TRUE</td>\n",
       "    </tr>\n",
       "    <tr>\n",
       "      <th>108863</th>\n",
       "      <td>{'messages': [{'role': 'user', 'content': 'Dur...</td>\n",
       "      <td>POSSIBLE</td>\n",
       "    </tr>\n",
       "  </tbody>\n",
       "</table>\n",
       "<p>108864 rows × 2 columns</p>\n",
       "</div>"
      ],
      "text/plain": [
       "                                           dialog_history target_message\n",
       "0       {'messages': [{'role': 'user', 'content': 'Ove...       POSSIBLE\n",
       "1       {'messages': [{'role': 'user', 'content': 'The...     IMPOSSIBLE\n",
       "2       {'messages': [{'role': 'user', 'content': 'Dur...           TRUE\n",
       "3       {'messages': [{'role': 'user', 'content': 'Mar...           TRUE\n",
       "4       {'messages': [{'role': 'user', 'content': 'The...           TRUE\n",
       "...                                                   ...            ...\n",
       "108859  {'messages': [{'role': 'user', 'content': 'Sin...     IMPOSSIBLE\n",
       "108860  {'messages': [{'role': 'user', 'content': 'In ...       POSSIBLE\n",
       "108861  {'messages': [{'role': 'user', 'content': 'Dur...     IMPOSSIBLE\n",
       "108862  {'messages': [{'role': 'user', 'content': 'The...           TRUE\n",
       "108863  {'messages': [{'role': 'user', 'content': 'Dur...       POSSIBLE\n",
       "\n",
       "[108864 rows x 2 columns]"
      ]
     },
     "execution_count": 12,
     "metadata": {},
     "output_type": "execute_result"
    }
   ],
   "source": [
    "df = load_trainset()\n",
    "df"
   ]
  },
  {
   "cell_type": "code",
   "execution_count": 15,
   "metadata": {},
   "outputs": [
    {
     "data": {
      "text/plain": [
       "{'messages': [{'role': 'user',\n",
       "   'content': \"Over his lifetime, Grandpa planted 3 trees in his garden.\\nIf one were to say: 'He planted the plum tree between the plantation of the willow and the magnolia, the willow after the plum tree and the plum tree between the plantation of the magnolia and the willow.', would that situation be POSSIBLE or IMPOSSIBLE ? Only respond with 'POSSIBLE' or 'IMPOSSIBLE' without any explanation:\\n\"}]}"
      ]
     },
     "execution_count": 15,
     "metadata": {},
     "output_type": "execute_result"
    }
   ],
   "source": [
    "df['dialog_history'][0]"
   ]
  },
  {
   "cell_type": "code",
   "execution_count": 17,
   "metadata": {},
   "outputs": [],
   "source": [
    "dlist = df.to_dict(orient='records')"
   ]
  },
  {
   "cell_type": "code",
   "execution_count": 24,
   "metadata": {},
   "outputs": [
    {
     "data": {
      "text/plain": [
       "{'dialog_history': {'messages': [{'role': 'user',\n",
       "    'content': \"Over his lifetime, Grandpa planted 3 trees in his garden.\\nIf one were to say: 'He planted the plum tree between the plantation of the willow and the magnolia, the willow after the plum tree and the plum tree between the plantation of the magnolia and the willow.', would that situation be POSSIBLE or IMPOSSIBLE ? Only respond with 'POSSIBLE' or 'IMPOSSIBLE' without any explanation:\\n\"}]},\n",
       " 'target_message': 'POSSIBLE'}"
      ]
     },
     "execution_count": 24,
     "metadata": {},
     "output_type": "execute_result"
    }
   ],
   "source": [
    "a = dlist[0]\n",
    "a"
   ]
  },
  {
   "cell_type": "code",
   "execution_count": 27,
   "metadata": {},
   "outputs": [
    {
     "data": {
      "text/plain": [
       "'POSSIBLE'"
      ]
     },
     "execution_count": 27,
     "metadata": {},
     "output_type": "execute_result"
    }
   ],
   "source": [
    "dlist[0]['target_message']"
   ]
  },
  {
   "cell_type": "code",
   "execution_count": null,
   "metadata": {},
   "outputs": [],
   "source": []
  }
 ],
 "metadata": {
  "kernelspec": {
   "display_name": "base",
   "language": "python",
   "name": "python3"
  },
  "language_info": {
   "codemirror_mode": {
    "name": "ipython",
    "version": 3
   },
   "file_extension": ".py",
   "mimetype": "text/x-python",
   "name": "python",
   "nbconvert_exporter": "python",
   "pygments_lexer": "ipython3",
   "version": "3.10.13"
  }
 },
 "nbformat": 4,
 "nbformat_minor": 2
}
